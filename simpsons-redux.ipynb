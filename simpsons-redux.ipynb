{
 "cells": [
  {
   "cell_type": "markdown",
   "metadata": {},
   "source": [
    "# Simpsons Redux\n",
    "\n",
    "In this notebook, the simpsons image dataset will be processed to generate train, test and validation sets. It is inspired by the dogs_cats_redux notebook from fast.ai deep learning course.\n",
    "\n",
    "To start you will need to download and unzip the competition data from Kaggle and ensure your directory structure looks like this\n",
    "```\n",
    "simpsons-image-recognition/\n",
    "    simpsons-image-recognition.ipynb\n",
    "    simpsons-redux.ipynb\n",
    "    data/\n",
    "        train/\n",
    "            [ simpsons_dataset.tar.gz ]\n",
    "        test/\n",
    "            [ kaggle_simpson_testset ]\n",
    "```\n",
    "\n",
    "You can download the data files from the competition page [here](https://www.kaggle.com/alexattia/the-simpsons-characters-dataset)"
   ]
  },
  {
   "cell_type": "code",
   "execution_count": 6,
   "metadata": {
    "scrolled": true
   },
   "outputs": [
    {
     "name": "stdout",
     "output_type": "stream",
     "text": [
      "/home/alberto/repos/notebooks/simpsons-image-recognition\n"
     ]
    },
    {
     "data": {
      "text/plain": [
       "u'/home/alberto/repos/notebooks/simpsons-image-recognition'"
      ]
     },
     "execution_count": 6,
     "metadata": {},
     "output_type": "execute_result"
    }
   ],
   "source": [
    "# Verify that we are in the correct directory\n",
    "%cd /home/alberto/repos/notebooks/simpsons-image-recognition/\n",
    "%pwd"
   ]
  },
  {
   "cell_type": "code",
   "execution_count": 7,
   "metadata": {
    "collapsed": true
   },
   "outputs": [],
   "source": [
    "#Create references to important directories we will use over and over\n",
    "import os, sys\n",
    "from glob import glob\n",
    "import numpy as np\n",
    "from shutil import copyfile\n",
    "current_dir = os.getcwd()\n",
    "LESSON_HOME_DIR = current_dir\n",
    "DATA_HOME_DIR = current_dir+'/data'"
   ]
  },
  {
   "cell_type": "markdown",
   "metadata": {},
   "source": [
    "## Create validation set and sample"
   ]
  },
  {
   "cell_type": "code",
   "execution_count": 8,
   "metadata": {},
   "outputs": [
    {
     "name": "stdout",
     "output_type": "stream",
     "text": [
      "/home/alberto/repos/notebooks/simpsons-image-recognition/data\n",
      "mkdir: cannot create directory ‘results’: File exists\n",
      "/home/alberto/repos/notebooks/simpsons-image-recognition/data\n",
      "/home/alberto/repos/notebooks/simpsons-image-recognition/data/train/homer_simpson\n",
      "/home/alberto/repos/notebooks/simpsons-image-recognition/data\n",
      "/home/alberto/repos/notebooks/simpsons-image-recognition/data/train/ned_flanders\n"
     ]
    }
   ],
   "source": [
    "%cd $DATA_HOME_DIR\n",
    "%mkdir results\n",
    "%mkdir -p sample/test\n",
    "%mkdir -p sample/results\n",
    "%mkdir -p test/unknown\n",
    "for char in ['homer_simpson','ned_flanders']:\n",
    "    %cd $DATA_HOME_DIR\n",
    "    %mkdir -p valid/{char}\n",
    "    %mkdir -p sample/train/{char}\n",
    "    %mkdir -p sample/valid/{char}\n",
    "    %cd $DATA_HOME_DIR/train/{char}\n",
    "    g = glob('*.jpg')\n",
    "    shuf = np.random.permutation(g)\n",
    "    for i in range(440): os.rename(shuf[i], DATA_HOME_DIR+'/valid/'+char+'/' + shuf[i])\n",
    "    g = glob('*.jpg')\n",
    "    shuf = np.random.permutation(g)\n",
    "    for i in range(200): copyfile(shuf[i], DATA_HOME_DIR+'/sample/train/'+char+'/' + shuf[i])\n",
    "    g = glob('*.jpg')\n",
    "    shuf = np.random.permutation(g)\n",
    "    for i in range(50): copyfile(shuf[i], DATA_HOME_DIR+'/sample/valid/'+char+'/' + shuf[i])\n",
    "    %mv $DATA_HOME_DIR/test/{char}* $DATA_HOME_DIR/test/unknown"
   ]
  }
 ],
 "metadata": {
  "anaconda-cloud": {},
  "kernelspec": {
   "display_name": "Python [default]",
   "language": "python",
   "name": "python2"
  },
  "language_info": {
   "codemirror_mode": {
    "name": "ipython",
    "version": 2
   },
   "file_extension": ".py",
   "mimetype": "text/x-python",
   "name": "python",
   "nbconvert_exporter": "python",
   "pygments_lexer": "ipython2",
   "version": "2.7.13"
  }
 },
 "nbformat": 4,
 "nbformat_minor": 2
}
